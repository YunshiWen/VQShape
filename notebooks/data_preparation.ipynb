{
 "cells": [
  {
   "cell_type": "code",
   "execution_count": 1,
   "id": "ec3e8949-5ded-4710-84fa-969842b67068",
   "metadata": {},
   "outputs": [],
   "source": [
    "import joblib\n",
    "import sys\n",
    "import torch\n",
    "import math\n",
    "import numpy as np\n",
    "# from tqdm.notebook import tqdm\n",
    "from tqdm import tqdm\n",
    "import os\n",
    "import pandas as pd\n",
    "from sktime.datasets import load_from_tsfile_to_dataframe\n",
    "\n",
    "import warnings\n",
    "warnings.filterwarnings(\"ignore\")"
   ]
  },
  {
   "cell_type": "markdown",
   "id": "2ad90fdf",
   "metadata": {},
   "source": [
    "### Prepare the UEA classification datasets"
   ]
  },
  {
   "cell_type": "code",
   "execution_count": 6,
   "id": "8342526c-917a-4f24-8641-90f14735c672",
   "metadata": {},
   "outputs": [
    {
     "name": "stdout",
     "output_type": "stream",
     "text": [
      "ArticularyWordRecognition\n",
      "(2475, 512)\n",
      "AtrialFibrillation\n",
      "(30, 512)\n",
      "BasicMotions\n",
      "(240, 512)\n",
      "CharacterTrajectories\n",
      "(4266, 512)\n",
      "Cricket\n",
      "(648, 512)\n",
      "DuckDuckGeese\n",
      "(67250, 512)\n",
      "ERing\n",
      "(120, 512)\n",
      "EigenWorms\n",
      "(768, 512)\n",
      "Epilepsy\n",
      "(411, 512)\n",
      "EthanolConcentration\n",
      "(783, 512)\n",
      "FaceDetection\n",
      "(848160, 512)\n",
      "FingerMovements\n",
      "(8848, 512)\n",
      "HandMovementDirection\n",
      "(1600, 512)\n",
      "Handwriting\n",
      "(450, 512)\n",
      "Heartbeat\n",
      "(12444, 512)\n",
      "JapaneseVowels\n",
      "(3240, 512)\n",
      "LSST\n",
      "(14754, 512)\n",
      "Libras\n",
      "(360, 512)\n",
      "MotorImagery\n",
      "(17792, 512)\n",
      "NATOPS\n",
      "(4320, 512)\n",
      "PEMS-SF\n",
      "(257121, 512)\n",
      "PenDigits\n",
      "(14988, 512)\n",
      "PhonemeSpectra\n",
      "(36465, 512)\n",
      "RacketSports\n",
      "(906, 512)\n",
      "SelfRegulationSCP1\n",
      "(1608, 512)\n",
      "SelfRegulationSCP2\n",
      "(1400, 512)\n",
      "SpokenArabicDigits\n",
      "(85787, 512)\n",
      "StandWalkJump\n",
      "(48, 512)\n",
      "UWaveGestureLibrary\n",
      "(360, 512)\n",
      "ArticularyWordRecognition\n",
      "(2700, 512)\n",
      "AtrialFibrillation\n",
      "(30, 512)\n",
      "BasicMotions\n",
      "(240, 512)\n",
      "CharacterTrajectories\n",
      "(4308, 512)\n",
      "Cricket\n",
      "(432, 512)\n",
      "DuckDuckGeese\n",
      "(67250, 512)\n",
      "ERing\n",
      "(1080, 512)\n",
      "EigenWorms\n",
      "(786, 512)\n",
      "Epilepsy\n",
      "(414, 512)\n",
      "EthanolConcentration\n",
      "(789, 512)\n",
      "FaceDetection\n",
      "(507456, 512)\n",
      "FingerMovements\n",
      "(2800, 512)\n",
      "HandMovementDirection\n",
      "(740, 512)\n",
      "Handwriting\n",
      "(2550, 512)\n",
      "Heartbeat\n",
      "(12505, 512)\n",
      "JapaneseVowels\n",
      "(4440, 512)\n",
      "LSST\n",
      "(14796, 512)\n",
      "Libras\n",
      "(360, 512)\n",
      "MotorImagery\n",
      "(6400, 512)\n",
      "NATOPS\n",
      "(4320, 512)\n",
      "PEMS-SF\n",
      "(166599, 512)\n",
      "PenDigits\n",
      "(6996, 512)\n",
      "PhonemeSpectra\n",
      "(36883, 512)\n",
      "RacketSports\n",
      "(912, 512)\n",
      "SelfRegulationSCP1\n",
      "(1758, 512)\n",
      "SelfRegulationSCP2\n",
      "(1260, 512)\n",
      "SpokenArabicDigits\n",
      "(28587, 512)\n",
      "StandWalkJump\n",
      "(60, 512)\n",
      "UWaveGestureLibrary\n",
      "(960, 512)\n"
     ]
    }
   ],
   "source": [
    "dataset_names=[\n",
    "    'ArticularyWordRecognition', \n",
    "    'AtrialFibrillation', \n",
    "    'BasicMotions', \n",
    "    'CharacterTrajectories', \n",
    "    'Cricket', \n",
    "    'DuckDuckGeese', \n",
    "    'ERing', \n",
    "    'EigenWorms', \n",
    "    'Epilepsy', \n",
    "    'EthanolConcentration', \n",
    "    'FaceDetection', \n",
    "    'FingerMovements', \n",
    "    'HandMovementDirection', \n",
    "    'Handwriting', \n",
    "    'Heartbeat', \n",
    "    # 'InsectWingbeat',\n",
    "    'JapaneseVowels', \n",
    "    'LSST', \n",
    "    'Libras', \n",
    "    'MotorImagery', \n",
    "    'NATOPS', \n",
    "    'PEMS-SF', \n",
    "    'PenDigits', \n",
    "    'PhonemeSpectra', \n",
    "    'RacketSports', \n",
    "    'SelfRegulationSCP1', \n",
    "    'SelfRegulationSCP2', \n",
    "    'SpokenArabicDigits', \n",
    "    'StandWalkJump', \n",
    "    'UWaveGestureLibrary'\n",
    "]\n",
    "\n",
    "\n",
    "# Change the dataset root to the path of your dataset\n",
    "dataset_root='~/data/UEA_multivariate'\n",
    "save_root = '~/data/VQShape/uea'\n",
    "\n",
    "def interpolate_uts(x, new_len):\n",
    "    x = torch.from_numpy(x)\n",
    "    x = torch.nn.functional.interpolate(x.view(1, 1, -1), new_len, mode='linear')\n",
    "    return x.squeeze()\n",
    "\n",
    "def dataframe_to_list(df):\n",
    "    \"\"\"\n",
    "    Convert each element of a pandas DataFrame to a list.\n",
    "\n",
    "    :param df: pandas DataFrame.\n",
    "    :return: List containing all elements of the DataFrame.\n",
    "    \"\"\"\n",
    "    elements_list = []\n",
    "    for _, row in df.iterrows():\n",
    "        elements_list.extend(row.tolist())\n",
    "    return elements_list\n",
    "\n",
    "def load_single(dataset_root, dataset):\n",
    "    df, labels = load_from_tsfile_to_dataframe(f\"{dataset_root}/{dataset}/{dataset}_{flag}.ts\")\n",
    "    data_list = dataframe_to_list(df)\n",
    "    df = None\n",
    "    data_list = [interpolate_uts(x.values.flatten(), new_len=512).float() for x in data_list]\n",
    "    # data_list = [(x - np.mean(x))/(np.std(x) + np.finfo(float).eps) for x in data_list]\n",
    "    data_list = [(x - x.mean()) / (x.var() + 1e-5).sqrt() for x in data_list]\n",
    "    return torch.stack(data_list, dim=0).numpy()\n",
    "\n",
    "\n",
    "# Load the UEA datasets and write each univariate TS into a csv file\n",
    "for flag in ['TRAIN', 'TEST']:\n",
    "    for dataset in dataset_names:\n",
    "        print(dataset, end=\": \")\n",
    "        save_dir = f\"{save_root}/{flag}/{dataset}\"\n",
    "        os.makedirs(save_dir, exist_ok=True)\n",
    "        data = load_single(dataset_root, dataset)\n",
    "        print(data.shape)\n",
    "\n",
    "        for i, x in enumerate(tqdm(data)):\n",
    "            df = pd.DataFrame(x)\n",
    "            df.to_csv(f\"{save_dir}/{i}.csv\", index=False, header=False)"
   ]
  },
  {
   "cell_type": "markdown",
   "id": "e73e8bb9",
   "metadata": {},
   "source": [
    "### Prepare the Forecasting datasets"
   ]
  },
  {
   "cell_type": "code",
   "execution_count": 7,
   "id": "1394bd89-032a-4f4f-941d-6ecd756a2147",
   "metadata": {},
   "outputs": [
    {
     "data": {
      "text/plain": [
       "['../data/PILE/forecasting/autoformer/weather.csv',\n",
       " '../data/PILE/forecasting/autoformer/ETTm2.csv',\n",
       " '../data/PILE/forecasting/autoformer/ETTh1.csv',\n",
       " '../data/PILE/forecasting/autoformer/electricity.csv',\n",
       " '../data/PILE/forecasting/autoformer/national_illness.csv',\n",
       " '../data/PILE/forecasting/autoformer/traffic.csv',\n",
       " '../data/PILE/forecasting/autoformer/exchange_rate.csv',\n",
       " '../data/PILE/forecasting/autoformer/ETTh2.csv',\n",
       " '../data/PILE/forecasting/autoformer/ETTm1.csv']"
      ]
     },
     "execution_count": 7,
     "metadata": {},
     "output_type": "execute_result"
    }
   ],
   "source": [
    "import pandas as pd\n",
    "import glob\n",
    "\n",
    "glob.glob(\"../data/PILE/forecasting/autoformer/*\")"
   ]
  },
  {
   "cell_type": "code",
   "execution_count": 58,
   "id": "aca2fcc0",
   "metadata": {},
   "outputs": [
    {
     "name": "stderr",
     "output_type": "stream",
     "text": [
      "512: 100%|██████████| 862/862 [01:22<00:00, 10.49it/s]\n"
     ]
    }
   ],
   "source": [
    "from tqdm import tqdm\n",
    "import os\n",
    "import numpy as np\n",
    "\n",
    "dataset = 'traffic'\n",
    "df = pd.read_csv(f'../data/PILE/forecasting/autoformer/{dataset}.csv')\n",
    "save_dir = f'../data/VQShape/forecasting/TRAIN/{dataset}'\n",
    "test_size = 0.2\n",
    "step_size = 48\n",
    "seq_lengths = [512] # [96, 192, 336, 512]\n",
    "data = df.values[:, 1:]\n",
    "data = data[:int(data.shape[0]*(1-test_size)), :]\n",
    "start_idx = np.arange(0, data.shape[0] - step_size, step_size)\n",
    "\n",
    "if not os.path.isdir(save_dir):\n",
    "    os.makedirs(save_dir)\n",
    "\n",
    "for l in seq_lengths:\n",
    "    for c in tqdm(range(data.shape[1]), desc=f'{l}'):\n",
    "        for start in start_idx:\n",
    "            x = data[start:start+l, c]\n",
    "            pd.DataFrame(x).to_csv(f\"{save_dir}/{c}_{start}_{l}.csv\", index=False, header=False)\n"
   ]
  },
  {
   "cell_type": "code",
   "execution_count": 63,
   "id": "cba0f36d",
   "metadata": {},
   "outputs": [
    {
     "name": "stdout",
     "output_type": "stream",
     "text": [
      "(11520, 7)\n"
     ]
    },
    {
     "name": "stderr",
     "output_type": "stream",
     "text": [
      "512: 100%|██████████| 7/7 [00:00<00:00,  9.77it/s]\n"
     ]
    }
   ],
   "source": [
    "from tqdm import tqdm\n",
    "import os\n",
    "import numpy as np\n",
    "\n",
    "dataset = 'ETTh2'\n",
    "df = pd.read_csv(f'../data/PILE/forecasting/autoformer/{dataset}.csv')\n",
    "save_dir = f'../data/VQShape/forecasting/TRAIN/{dataset}'\n",
    "\n",
    "step_size = 48\n",
    "seq_lengths = [512] # [96, 192, 336, 512]\n",
    "data = df.values[:, 1:]\n",
    "data = data[:12 * 30 * 24 + 4 * 30 * 24, :]\n",
    "print(data.shape)\n",
    "start_idx = np.arange(0, data.shape[0] - step_size, step_size)\n",
    "\n",
    "if not os.path.isdir(save_dir):\n",
    "    os.makedirs(save_dir)\n",
    "\n",
    "for l in seq_lengths:\n",
    "    for c in tqdm(range(data.shape[1]), desc=f'{l}'):\n",
    "        for start in start_idx:\n",
    "            x = data[start:start+l, c]\n",
    "            pd.DataFrame(x).to_csv(f\"{save_dir}/{c}_{start}_{l}.csv\", index=False, header=False)\n"
   ]
  },
  {
   "cell_type": "code",
   "execution_count": 64,
   "id": "14564630",
   "metadata": {},
   "outputs": [
    {
     "name": "stderr",
     "output_type": "stream",
     "text": [
      "24: 100%|██████████| 7/7 [00:00<00:00, 85.36it/s]\n",
      "36: 100%|██████████| 7/7 [00:00<00:00, 85.98it/s]\n",
      "48: 100%|██████████| 7/7 [00:00<00:00, 85.31it/s]\n",
      "60: 100%|██████████| 7/7 [00:00<00:00, 83.13it/s]\n"
     ]
    }
   ],
   "source": [
    "from tqdm import tqdm\n",
    "import os\n",
    "import numpy as np\n",
    "\n",
    "dataset = 'national_illness'\n",
    "df = pd.read_csv(f'../data/PILE/forecasting/autoformer/{dataset}.csv')\n",
    "save_dir = f'../data/VQShape/forecasting/TRAIN/{dataset}'\n",
    "test_size = 0.2\n",
    "step_size = 12\n",
    "seq_lengths = [24, 36, 48, 60]\n",
    "data = df.values[:, 1:]\n",
    "data = data[:int(data.shape[0]*(1-test_size)), :]\n",
    "start_idx = np.arange(0, data.shape[0] - step_size, step_size)\n",
    "\n",
    "if not os.path.isdir(save_dir):\n",
    "    os.makedirs(save_dir)\n",
    "\n",
    "for l in seq_lengths:\n",
    "    for c in tqdm(range(data.shape[1]), desc=f'{l}'):\n",
    "        for start in start_idx:\n",
    "            x = data[start:start+l, c]\n",
    "            pd.DataFrame(x).to_csv(f\"{save_dir}/{c}_{start}_{l}.csv\", index=False, header=False)\n"
   ]
  },
  {
   "cell_type": "markdown",
   "id": "631fe71b",
   "metadata": {},
   "source": [
    "### Prepare the UCR classification datasets\n"
   ]
  },
  {
   "cell_type": "code",
   "execution_count": 11,
   "id": "54c091d4",
   "metadata": {},
   "outputs": [
    {
     "name": "stderr",
     "output_type": "stream",
     "text": [
      "100%|██████████| 128/128 [01:01<00:00,  2.09it/s]\n"
     ]
    },
    {
     "data": {
      "text/plain": [
       "130603"
      ]
     },
     "execution_count": 11,
     "metadata": {},
     "output_type": "execute_result"
    }
   ],
   "source": [
    "from sktime.datasets import load_from_ucr_tsv_to_dataframe\n",
    "import os\n",
    "from tqdm import tqdm\n",
    "import numpy as np\n",
    "\n",
    "\n",
    "def df_to_feature(df, labels):\n",
    "    features = []\n",
    "    for _, row in df.iterrows():\n",
    "        sample = []\n",
    "        for c in row.tolist():\n",
    "            # sample.append(interpolate_uts(c.values.flatten(), seq_len))\n",
    "            sample.append(c.values.flatten())\n",
    "        features.append(np.stack(sample, axis=0))\n",
    "    features = np.stack(features, axis=0)\n",
    "\n",
    "    labels = pd.Series(labels, dtype=\"category\")\n",
    "    labels = pd.DataFrame(labels.cat.codes, dtype=np.int8).values\n",
    "\n",
    "    return features, labels\n",
    "\n",
    "\n",
    "root = f\"../data/timeseries_lib/UCR_2018\"\n",
    "datasets = os.listdir(root)\n",
    "datasets = sorted([d for d in datasets if not d.startswith(\".\")])\n",
    "\n",
    "count = 0\n",
    "\n",
    "for d in tqdm(datasets):\n",
    "    save_dir = f'../data/VQShape/ucr/TEST/{d}'\n",
    "    if not os.path.isdir(save_dir):\n",
    "        os.makedirs(save_dir)\n",
    "\n",
    "    features, labels = load_from_ucr_tsv_to_dataframe(f\"{root}/{d}/{d}_TEST.tsv\")\n",
    "    features, labels = df_to_feature(features, labels)\n",
    "\n",
    "    for i in range(features.shape[0]):\n",
    "        x = features[i].flatten()\n",
    "        pd.DataFrame(x).to_csv(f\"{save_dir}/{i}.csv\", index=False, header=False)\n",
    "        count += 1\n",
    "\n",
    "count"
   ]
  }
 ],
 "metadata": {
  "kernelspec": {
   "display_name": "Python 3 (ipykernel)",
   "language": "python",
   "name": "python3"
  },
  "language_info": {
   "codemirror_mode": {
    "name": "ipython",
    "version": 3
   },
   "file_extension": ".py",
   "mimetype": "text/x-python",
   "name": "python",
   "nbconvert_exporter": "python",
   "pygments_lexer": "ipython3",
   "version": "3.11.9"
  }
 },
 "nbformat": 4,
 "nbformat_minor": 5
}
